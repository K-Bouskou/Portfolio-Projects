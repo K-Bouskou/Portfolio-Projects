{
 "cells": [
  {
   "cell_type": "markdown",
   "metadata": {
    "collapsed": false
   },
   "source": [
    "## Load Packages ."
   ]
  },
  {
   "cell_type": "code",
   "execution_count": 1,
   "metadata": {},
   "outputs": [],
   "source": [
    "import pandas as pd ## This package for manipulation data .\n",
    "import numpy as np ## This package for manipulation data .\n",
    "import seaborn as sns ## This package for visualization data .\n",
    "import matplotlib.pyplot as plt ## This package for visualization data .\n"
   ]
  },
  {
   "cell_type": "markdown",
   "metadata": {},
   "source": [
    "## Load Data ."
   ]
  },
  {
   "cell_type": "code",
   "execution_count": 2,
   "metadata": {},
   "outputs": [],
   "source": [
    "## This code for loading raw data .\n",
    "m2020_11 = pd.read_csv(\"C:/Users/KasiolEr/Desktop/Original Data/202011-divvy-tripdata-Original-Data.csv\")\n",
    "m2020_12 = pd.read_csv(\"C:/Users/KasiolEr/Desktop/Original Data/202012-divvy-tripdata-Original-Data.csv\")\n",
    "m2021_01 = pd.read_csv(\"C:/Users/KasiolEr/Desktop/Original Data/202101-divvy-tripdata-Original-Data.csv\")\n",
    "m2021_02= pd.read_csv(\"C:/Users/KasiolEr/Desktop/Original Data/202102-divvy-tripdata-Original-Data.csv\")\n",
    "m2021_03 = pd.read_csv(\"C:/Users/KasiolEr/Desktop/Original Data/202103-divvy-tripdata-Original-Data.csv\")\n",
    "m2021_04 = pd.read_csv(\"C:/Users/KasiolEr/Desktop/Original Data/202104-divvy-tripdata-Original-Data.csv\")\n",
    "m2021_05 = pd.read_csv(\"C:/Users/KasiolEr/Desktop/Original Data/202105-divvy-tripdata-Original-Data.csv\")\n",
    "m2021_06 = pd.read_csv(\"C:/Users/KasiolEr/Desktop/Original Data/202106-divvy-tripdata-Original-Data.csv\")\n",
    "m2021_07 = pd.read_csv(\"C:/Users/KasiolEr/Desktop/Original Data/202107-divvy-tripdata-Original-Data.csv\")\n",
    "m2021_08 = pd.read_csv(\"C:/Users/KasiolEr/Desktop/Original Data/202108-divvy-tripdata-Original-Data.csv\")\n",
    "m2021_09 = pd.read_csv(\"C:/Users/KasiolEr/Desktop/Original Data/202109-divvy-tripdata-Original-Data.csv\")\n",
    "m2021_10 = pd.read_csv(\"C:/Users/KasiolEr/Desktop/Original Data/202110-divvy-tripdata-Original-Data.csv\")"
   ]
  },
  {
   "cell_type": "markdown",
   "metadata": {},
   "source": [
    "## Merging DataSet into Quarter Period And Annual Period .\n"
   ]
  },
  {
   "cell_type": "code",
   "execution_count": 3,
   "metadata": {},
   "outputs": [],
   "source": [
    "## This code to merge 3 months into a quarter period .\n",
    "Q1 = pd.concat([m2020_11, m2020_12, m2021_01])\n",
    "Q2 = pd.concat([m2021_02, m2021_03, m2021_04])\n",
    "Q3 = pd.concat([m2021_05, m2021_06, m2021_07])\n",
    "Q4 = pd.concat([m2021_08, m2021_09, m2021_10])"
   ]
  },
  {
   "cell_type": "code",
   "execution_count": 4,
   "metadata": {},
   "outputs": [],
   "source": [
    "## This code to merge all quarter period data into annual period .\n",
    "Annual_data = pd.concat([Q1, Q2, Q3, Q4])"
   ]
  },
  {
   "cell_type": "markdown",
   "metadata": {},
   "source": [
    "## Clean and Explore Data ."
   ]
  },
  {
   "cell_type": "code",
   "execution_count": 5,
   "metadata": {},
   "outputs": [],
   "source": [
    "## This code to remove (start_lat, start_lng, end_lat, end_lng) variables from all dataset .\n",
    "Q1.drop([\"start_lat\", \"start_lng\", \"end_lat\", \"end_lng\"], axis=1, inplace=True)\n",
    "Q2.drop([\"start_lat\", \"start_lng\", \"end_lat\", \"end_lng\"], axis=1, inplace=True)\n",
    "Q3.drop([\"start_lat\", \"start_lng\", \"end_lat\", \"end_lng\"], axis=1, inplace=True)\n",
    "Q4.drop([\"start_lat\", \"start_lng\", \"end_lat\", \"end_lng\"], axis=1, inplace=True)\n",
    "Annual_data.drop([\"start_lat\", \"start_lng\", \"end_lat\", \"end_lng\"], axis=1, inplace=True)"
   ]
  },
  {
   "cell_type": "code",
   "execution_count": null,
   "metadata": {},
   "outputs": [],
   "source": [
    "## This code for explore and understand dataset type and size \n",
    "Q1.info()\n",
    "Q2.info()\n",
    "Q3.info()\n",
    "Q4.info()\n",
    "Annual_data.info()"
   ]
  },
  {
   "cell_type": "code",
   "execution_count": 6,
   "metadata": {},
   "outputs": [],
   "source": [
    "## This code to convert (started_at & ended_at) variable to datatime type for getting ride average .\n",
    "Annual_data['started_at'] = pd.to_datetime(Annual_data['started_at'])\n",
    "Annual_data['ended_at'] = pd.to_datetime(Annual_data['ended_at'])\n",
    "Annual_data_ride_average = Annual_data.ended_at - Annual_data.started_at"
   ]
  },
  {
   "cell_type": "code",
   "execution_count": 7,
   "metadata": {},
   "outputs": [],
   "source": [
    "## This code to separate 'started_at' into days, months, year and day of week \n",
    "## Also add ride_average column for calculate difference time betwen ride started time and ride ended time .\n",
    "Annual_data[\"Date\"] = pd.to_datetime(Annual_data[\"started_at\"]).dt.date\n",
    "Annual_data[\"Day\"] = pd.to_datetime(Annual_data['started_at']).dt.day\n",
    "Annual_data[\"Month\"] = pd.to_datetime(Annual_data['started_at']).dt.month\n",
    "Annual_data[\"Year\"] = pd.to_datetime(Annual_data['started_at']).dt.year\n",
    "Annual_data[\"Day_Of_Week\"] = pd.to_datetime(Annual_data['Date']).dt.day_name(locale = 'English')\n",
    "Annual_data[\"ride_average\"] = Annual_data_ride_average"
   ]
  },
  {
   "cell_type": "code",
   "execution_count": 8,
   "metadata": {},
   "outputs": [],
   "source": [
    "## This code to remove rows that has negative duration of ride (Less than 0 seconde)\n",
    "Annual_data = Annual_data[Annual_data[\"ride_average\"] >= pd.Timedelta(0)]"
   ]
  },
  {
   "cell_type": "markdown",
   "metadata": {},
   "source": [
    "## Descriptive Analysis ."
   ]
  },
  {
   "cell_type": "code",
   "execution_count": null,
   "metadata": {},
   "outputs": [],
   "source": [
    "## This Code to get statistic details about ride average .\n",
    "Annual_data.ride_average.describe()"
   ]
  },
  {
   "cell_type": "code",
   "execution_count": null,
   "metadata": {},
   "outputs": [],
   "source": [
    "## This code for calculate ride average byrider type .\n",
    "Annual_data.groupby(Annual_data.member_casual)[\"ride_average\"].mean()"
   ]
  },
  {
   "cell_type": "code",
   "execution_count": null,
   "metadata": {},
   "outputs": [],
   "source": [
    "## This code for geting medium ride average by day .\n",
    "Annual_data.groupby(Annual_data.Day_Of_Week)[\"ride_average\"].median()"
   ]
  },
  {
   "cell_type": "code",
   "execution_count": null,
   "metadata": {},
   "outputs": [],
   "source": [
    "## This code for geting the max ride time by rider type . \n",
    "## Note : After i run this code i release somthing wrong wit my data cleanin \n",
    "#              and i decided to get back later to this in the next version .\n",
    "Annual_data.groupby(Annual_data.member_casual)[\"ride_average\"].max()"
   ]
  },
  {
   "cell_type": "code",
   "execution_count": null,
   "metadata": {},
   "outputs": [],
   "source": [
    "## This code for geting the lowset ride time by rider type .\n",
    "Annual_data.groupby(Annual_data.member_casual)[\"ride_average\"].min()"
   ]
  },
  {
   "cell_type": "code",
   "execution_count": null,
   "metadata": {},
   "outputs": [],
   "source": [
    "#This code for geting ride average of each type of riders by day .\n",
    "Annual_data.groupby([\"member_casual\",\"Day_Of_Week\"])[\"ride_average\"].mean()"
   ]
  },
  {
   "cell_type": "code",
   "execution_count": null,
   "metadata": {},
   "outputs": [],
   "source": [
    "#This code for get number of rides of each type of riders by day .\n",
    "Annual_data.groupby([\"member_casual\",\"Day_Of_Week\"])[\"ride_average\"].count()"
   ]
  },
  {
   "cell_type": "code",
   "execution_count": null,
   "metadata": {},
   "outputs": [],
   "source": [
    "## This code to get medium time of rides by day for each rider type .\n",
    "Annual_data.groupby([\"member_casual\",\"Day_Of_Week\"])[\"ride_average\"].median()"
   ]
  },
  {
   "cell_type": "code",
   "execution_count": null,
   "metadata": {},
   "outputs": [],
   "source": [
    "## This code to get the number of rides by day for each type of bike .\n",
    "Annual_data.groupby([\"rideable_type\",\"Day_Of_Week\"])[\"ride_average\"].count()"
   ]
  },
  {
   "cell_type": "code",
   "execution_count": null,
   "metadata": {},
   "outputs": [],
   "source": [
    "## This code to get average of ride by day for each type of bike .\n",
    "Annual_data.groupby([\"rideable_type\",\"Day_Of_Week\"])[\"ride_average\"].mean()"
   ]
  },
  {
   "cell_type": "code",
   "execution_count": null,
   "metadata": {},
   "outputs": [],
   "source": [
    "## This code to get longest rides time by day for each type bike .\n",
    "## Note :: I guese my worng in the cleaning process was the docked bike type .\n",
    "Annual_data.groupby([\"rideable_type\",\"Day_Of_Week\"])[\"ride_average\"].max()"
   ]
  },
  {
   "cell_type": "markdown",
   "metadata": {},
   "source": [
    "## Visualization "
   ]
  },
  {
   "cell_type": "markdown",
   "metadata": {},
   "source": [
    "Visualization in the next version of this study i need to practice more with visualization packages ."
   ]
  }
 ],
 "metadata": {
  "kernelspec": {
   "display_name": "Python 3",
   "language": "python",
   "name": "python3"
  },
  "language_info": {
   "codemirror_mode": {
    "name": "ipython",
    "version": 3
   },
   "file_extension": ".py",
   "mimetype": "text/x-python",
   "name": "python",
   "nbconvert_exporter": "python",
   "pygments_lexer": "ipython3",
   "version": "3.9.7"
  }
 },
 "nbformat": 4,
 "nbformat_minor": 0
}
