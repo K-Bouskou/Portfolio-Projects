{
 "cells": [
  {
   "cell_type": "markdown",
   "metadata": {},
   "source": [
    "# Import Packages"
   ]
  },
  {
   "cell_type": "code",
   "execution_count": 1,
   "metadata": {},
   "outputs": [],
   "source": [
    "import pandas as pd\n",
    "import plotly.express as px"
   ]
  },
  {
   "cell_type": "markdown",
   "metadata": {},
   "source": [
    "# Load Data "
   ]
  },
  {
   "cell_type": "code",
   "execution_count": 2,
   "metadata": {},
   "outputs": [
    {
     "name": "stderr",
     "output_type": "stream",
     "text": [
      "C:\\Users\\KasiolEr\\AppData\\Roaming\\Python\\Python39\\site-packages\\IPython\\core\\interactiveshell.py:3444: DtypeWarning: Columns (0,1,2,3,6,7,8) have mixed types.Specify dtype option on import or set low_memory=False.\n",
      "  exec(code_obj, self.user_global_ns, self.user_ns)\n"
     ]
    }
   ],
   "source": [
    "data  = pd.read_csv(\"Real-Time_Traffic_Incident_Reports.csv\")\n",
    "data = pd.DataFrame(data)"
   ]
  },
  {
   "cell_type": "markdown",
   "metadata": {},
   "source": [
    "# Explore Data"
   ]
  },
  {
   "cell_type": "code",
   "execution_count": 4,
   "metadata": {},
   "outputs": [
    {
     "data": {
      "text/html": [
       "<div>\n",
       "<style scoped>\n",
       "    .dataframe tbody tr th:only-of-type {\n",
       "        vertical-align: middle;\n",
       "    }\n",
       "\n",
       "    .dataframe tbody tr th {\n",
       "        vertical-align: top;\n",
       "    }\n",
       "\n",
       "    .dataframe thead th {\n",
       "        text-align: right;\n",
       "    }\n",
       "</style>\n",
       "<table border=\"1\" class=\"dataframe\">\n",
       "  <thead>\n",
       "    <tr style=\"text-align: right;\">\n",
       "      <th></th>\n",
       "      <th>Traffic Report ID</th>\n",
       "      <th>Published Date</th>\n",
       "      <th>Issue Reported</th>\n",
       "      <th>Location</th>\n",
       "      <th>Latitude</th>\n",
       "      <th>Longitude</th>\n",
       "      <th>Address</th>\n",
       "      <th>Status</th>\n",
       "      <th>Status Date</th>\n",
       "    </tr>\n",
       "  </thead>\n",
       "  <tbody>\n",
       "    <tr>\n",
       "      <th>0</th>\n",
       "      <td>A1</td>\n",
       "      <td>06/13/2018 06:35:59 AM +0000</td>\n",
       "      <td>Crash Service</td>\n",
       "      <td>(30.283797,-97.741906)</td>\n",
       "      <td>30.283797</td>\n",
       "      <td>-97.741906</td>\n",
       "      <td>W 21ST ST &amp; GUADALUPE ST</td>\n",
       "      <td>ARCHIVED</td>\n",
       "      <td>06/13/2018 09:00:03 AM +0000</td>\n",
       "    </tr>\n",
       "    <tr>\n",
       "      <th>1</th>\n",
       "      <td>A2</td>\n",
       "      <td>06/13/2018 10:15:36 AM +0000</td>\n",
       "      <td>Traffic Hazard</td>\n",
       "      <td>(30.339593,-97.700963)</td>\n",
       "      <td>30.339593</td>\n",
       "      <td>-97.700963</td>\n",
       "      <td>400-717 E ANDERSON LN EB</td>\n",
       "      <td>ARCHIVED</td>\n",
       "      <td>06/13/2018 11:20:03 AM +0000</td>\n",
       "    </tr>\n",
       "    <tr>\n",
       "      <th>2</th>\n",
       "      <td>A3</td>\n",
       "      <td>04/17/2020 09:25:03 PM +0000</td>\n",
       "      <td>Crash Urgent</td>\n",
       "      <td>(30.329455,-97.638105)</td>\n",
       "      <td>30.329455</td>\n",
       "      <td>-97.638105</td>\n",
       "      <td>E US 290 HWY SVRD EB &amp; EASTERN HEIGHTS BLVD</td>\n",
       "      <td>ARCHIVED</td>\n",
       "      <td>04/17/2020 09:55:03 PM +0000</td>\n",
       "    </tr>\n",
       "    <tr>\n",
       "      <th>3</th>\n",
       "      <td>A4</td>\n",
       "      <td>04/17/2020 09:40:52 PM +0000</td>\n",
       "      <td>Traffic Hazard</td>\n",
       "      <td>(30.202806,-97.760701)</td>\n",
       "      <td>30.202806</td>\n",
       "      <td>-97.760701</td>\n",
       "      <td>5300-blk S Ih 35 Sb</td>\n",
       "      <td>ARCHIVED</td>\n",
       "      <td>04/17/2020 09:55:03 PM +0000</td>\n",
       "    </tr>\n",
       "    <tr>\n",
       "      <th>4</th>\n",
       "      <td>A5</td>\n",
       "      <td>04/17/2020 09:00:55 PM +0000</td>\n",
       "      <td>Crash Urgent</td>\n",
       "      <td>(30.184265,-97.687339)</td>\n",
       "      <td>30.184265</td>\n",
       "      <td>-97.687339</td>\n",
       "      <td>4500-4720 S Us 183 Hwy Sb</td>\n",
       "      <td>ARCHIVED</td>\n",
       "      <td>04/17/2020 11:30:04 PM +0000</td>\n",
       "    </tr>\n",
       "    <tr>\n",
       "      <th>...</th>\n",
       "      <td>...</td>\n",
       "      <td>...</td>\n",
       "      <td>...</td>\n",
       "      <td>...</td>\n",
       "      <td>...</td>\n",
       "      <td>...</td>\n",
       "      <td>...</td>\n",
       "      <td>...</td>\n",
       "      <td>...</td>\n",
       "    </tr>\n",
       "    <tr>\n",
       "      <th>247155</th>\n",
       "      <td>NaN</td>\n",
       "      <td>NaN</td>\n",
       "      <td>NaN</td>\n",
       "      <td>NaN</td>\n",
       "      <td>NaN</td>\n",
       "      <td>NaN</td>\n",
       "      <td>NaN</td>\n",
       "      <td>NaN</td>\n",
       "      <td>NaN</td>\n",
       "    </tr>\n",
       "    <tr>\n",
       "      <th>247156</th>\n",
       "      <td>NaN</td>\n",
       "      <td>NaN</td>\n",
       "      <td>NaN</td>\n",
       "      <td>NaN</td>\n",
       "      <td>NaN</td>\n",
       "      <td>NaN</td>\n",
       "      <td>NaN</td>\n",
       "      <td>NaN</td>\n",
       "      <td>NaN</td>\n",
       "    </tr>\n",
       "    <tr>\n",
       "      <th>247157</th>\n",
       "      <td>NaN</td>\n",
       "      <td>NaN</td>\n",
       "      <td>NaN</td>\n",
       "      <td>NaN</td>\n",
       "      <td>NaN</td>\n",
       "      <td>NaN</td>\n",
       "      <td>NaN</td>\n",
       "      <td>NaN</td>\n",
       "      <td>NaN</td>\n",
       "    </tr>\n",
       "    <tr>\n",
       "      <th>247158</th>\n",
       "      <td>NaN</td>\n",
       "      <td>NaN</td>\n",
       "      <td>NaN</td>\n",
       "      <td>NaN</td>\n",
       "      <td>NaN</td>\n",
       "      <td>NaN</td>\n",
       "      <td>NaN</td>\n",
       "      <td>NaN</td>\n",
       "      <td>NaN</td>\n",
       "    </tr>\n",
       "    <tr>\n",
       "      <th>247159</th>\n",
       "      <td>NaN</td>\n",
       "      <td>NaN</td>\n",
       "      <td>NaN</td>\n",
       "      <td>NaN</td>\n",
       "      <td>NaN</td>\n",
       "      <td>NaN</td>\n",
       "      <td>NaN</td>\n",
       "      <td>NaN</td>\n",
       "      <td>NaN</td>\n",
       "    </tr>\n",
       "  </tbody>\n",
       "</table>\n",
       "<p>247160 rows × 9 columns</p>\n",
       "</div>"
      ],
      "text/plain": [
       "       Traffic Report ID                Published Date  Issue Reported  \\\n",
       "0                     A1  06/13/2018 06:35:59 AM +0000   Crash Service   \n",
       "1                     A2  06/13/2018 10:15:36 AM +0000  Traffic Hazard   \n",
       "2                     A3  04/17/2020 09:25:03 PM +0000    Crash Urgent   \n",
       "3                     A4  04/17/2020 09:40:52 PM +0000  Traffic Hazard   \n",
       "4                     A5  04/17/2020 09:00:55 PM +0000    Crash Urgent   \n",
       "...                  ...                           ...             ...   \n",
       "247155               NaN                           NaN             NaN   \n",
       "247156               NaN                           NaN             NaN   \n",
       "247157               NaN                           NaN             NaN   \n",
       "247158               NaN                           NaN             NaN   \n",
       "247159               NaN                           NaN             NaN   \n",
       "\n",
       "                      Location   Latitude  Longitude  \\\n",
       "0       (30.283797,-97.741906)  30.283797 -97.741906   \n",
       "1       (30.339593,-97.700963)  30.339593 -97.700963   \n",
       "2       (30.329455,-97.638105)  30.329455 -97.638105   \n",
       "3       (30.202806,-97.760701)  30.202806 -97.760701   \n",
       "4       (30.184265,-97.687339)  30.184265 -97.687339   \n",
       "...                        ...        ...        ...   \n",
       "247155                     NaN        NaN        NaN   \n",
       "247156                     NaN        NaN        NaN   \n",
       "247157                     NaN        NaN        NaN   \n",
       "247158                     NaN        NaN        NaN   \n",
       "247159                     NaN        NaN        NaN   \n",
       "\n",
       "                                            Address    Status  \\\n",
       "0                          W 21ST ST & GUADALUPE ST  ARCHIVED   \n",
       "1                          400-717 E ANDERSON LN EB  ARCHIVED   \n",
       "2       E US 290 HWY SVRD EB & EASTERN HEIGHTS BLVD  ARCHIVED   \n",
       "3                               5300-blk S Ih 35 Sb  ARCHIVED   \n",
       "4                         4500-4720 S Us 183 Hwy Sb  ARCHIVED   \n",
       "...                                             ...       ...   \n",
       "247155                                          NaN       NaN   \n",
       "247156                                          NaN       NaN   \n",
       "247157                                          NaN       NaN   \n",
       "247158                                          NaN       NaN   \n",
       "247159                                          NaN       NaN   \n",
       "\n",
       "                         Status Date  \n",
       "0       06/13/2018 09:00:03 AM +0000  \n",
       "1       06/13/2018 11:20:03 AM +0000  \n",
       "2       04/17/2020 09:55:03 PM +0000  \n",
       "3       04/17/2020 09:55:03 PM +0000  \n",
       "4       04/17/2020 11:30:04 PM +0000  \n",
       "...                              ...  \n",
       "247155                           NaN  \n",
       "247156                           NaN  \n",
       "247157                           NaN  \n",
       "247158                           NaN  \n",
       "247159                           NaN  \n",
       "\n",
       "[247160 rows x 9 columns]"
      ]
     },
     "execution_count": 4,
     "metadata": {},
     "output_type": "execute_result"
    }
   ],
   "source": [
    "data.info()"
   ]
  },
  {
   "cell_type": "markdown",
   "metadata": {},
   "source": [
    "# Clean Data & Transform DataType"
   ]
  },
  {
   "cell_type": "code",
   "execution_count": 5,
   "metadata": {},
   "outputs": [],
   "source": [
    "data_clean = data.dropna(how = \"all\") # Drop all null rows from table "
   ]
  },
  {
   "cell_type": "code",
   "execution_count": 8,
   "metadata": {},
   "outputs": [
    {
     "name": "stderr",
     "output_type": "stream",
     "text": [
      "C:\\Users\\KasiolEr\\AppData\\Local\\Temp/ipykernel_10408/554181525.py:2: SettingWithCopyWarning: \n",
      "A value is trying to be set on a copy of a slice from a DataFrame.\n",
      "Try using .loc[row_indexer,col_indexer] = value instead\n",
      "\n",
      "See the caveats in the documentation: https://pandas.pydata.org/pandas-docs/stable/user_guide/indexing.html#returning-a-view-versus-a-copy\n",
      "  data_clean['Date']=data_clean['Published Date'].apply(lambda x: (x[0:10])) # Extract Date from Published Date column .\n",
      "C:\\Users\\KasiolEr\\AppData\\Local\\Temp/ipykernel_10408/554181525.py:3: SettingWithCopyWarning: \n",
      "A value is trying to be set on a copy of a slice from a DataFrame.\n",
      "Try using .loc[row_indexer,col_indexer] = value instead\n",
      "\n",
      "See the caveats in the documentation: https://pandas.pydata.org/pandas-docs/stable/user_guide/indexing.html#returning-a-view-versus-a-copy\n",
      "  data_clean['Time']=data_clean['Published Date'].apply(lambda x: (x[11:16]+x[19:22])) # Extract Time from Published Date column .\n"
     ]
    }
   ],
   "source": [
    "# Thanks to STPETE_ISHII from kaggle \n",
    "data_clean['Date']=data_clean['Published Date'].apply(lambda x: (x[0:10])) # Extract Date from Published Date column .\n",
    "data_clean['Time']=data_clean['Published Date'].apply(lambda x: (x[11:16]+x[19:22])) # Extract Time from Published Date column ."
   ]
  },
  {
   "cell_type": "code",
   "execution_count": 9,
   "metadata": {},
   "outputs": [
    {
     "ename": "NameError",
     "evalue": "name 'x' is not defined",
     "output_type": "error",
     "traceback": [
      "\u001b[1;31m---------------------------------------------------------------------------\u001b[0m",
      "\u001b[1;31mNameError\u001b[0m                                 Traceback (most recent call last)",
      "\u001b[1;32m~\\AppData\\Local\\Temp/ipykernel_10408/2182971519.py\u001b[0m in \u001b[0;36m<module>\u001b[1;34m\u001b[0m\n\u001b[1;32m----> 1\u001b[1;33m \u001b[0mdata_clean\u001b[0m\u001b[1;33m[\u001b[0m\u001b[1;34m'Date'\u001b[0m\u001b[1;33m]\u001b[0m\u001b[1;33m=\u001b[0m \u001b[0mpd\u001b[0m\u001b[1;33m.\u001b[0m\u001b[0mto_datetime\u001b[0m\u001b[1;33m(\u001b[0m\u001b[0mx\u001b[0m\u001b[1;33m[\u001b[0m\u001b[1;34m'Date'\u001b[0m\u001b[1;33m]\u001b[0m\u001b[1;33m)\u001b[0m \u001b[1;31m# Convert Date to datetime type .\u001b[0m\u001b[1;33m\u001b[0m\u001b[1;33m\u001b[0m\u001b[0m\n\u001b[0m",
      "\u001b[1;31mNameError\u001b[0m: name 'x' is not defined"
     ]
    }
   ],
   "source": [
    "data_clean['Date']= pd.to_datetime(x['Date']) # Convert Date to datetime type ."
   ]
  },
  {
   "cell_type": "code",
   "execution_count": null,
   "metadata": {},
   "outputs": [],
   "source": [
    "# This code for further analysis .\n",
    "data_clean['Day_Of_Week'] = x['Date'].dt.day_name() # Creat day of week column and Get the day name from Date ."
   ]
  },
  {
   "cell_type": "code",
   "execution_count": null,
   "metadata": {},
   "outputs": [],
   "source": [
    "data_clean.info()"
   ]
  },
  {
   "cell_type": "markdown",
   "metadata": {},
   "source": [
    "# Descriptive Analysis "
   ]
  },
  {
   "cell_type": "code",
   "execution_count": null,
   "metadata": {},
   "outputs": [],
   "source": [
    "data_clean['Issue Reported'].value_counts() # Get the number of accident for each type ."
   ]
  },
  {
   "cell_type": "markdown",
   "metadata": {},
   "source": [
    "# Visualization "
   ]
  },
  {
   "cell_type": "code",
   "execution_count": null,
   "metadata": {},
   "outputs": [],
   "source": [
    "# First Viz\n",
    "fig = px.scatter_mapbox(data_clean, lat= 'Latitude', lon = 'Longitude', color=\"Issue Reported\",\n",
    "center=dict(lat=30.2672, lon= -97.7431), mapbox_style=\"stamen-terrain\", \n",
    "width=1020, height=720)"
   ]
  },
  {
   "cell_type": "code",
   "execution_count": null,
   "metadata": {},
   "outputs": [],
   "source": [
    "fig.show()"
   ]
  }
 ],
 "metadata": {
  "interpreter": {
   "hash": "ac59ebe37160ed0dfa835113d9b8498d9f09ceb179beaac4002f036b9467c963"
  },
  "kernelspec": {
   "display_name": "Python 3.9.7 64-bit",
   "language": "python",
   "name": "python3"
  },
  "language_info": {
   "codemirror_mode": {
    "name": "ipython",
    "version": 3
   },
   "file_extension": ".py",
   "mimetype": "text/x-python",
   "name": "python",
   "nbconvert_exporter": "python",
   "pygments_lexer": "ipython3",
   "version": "3.9.7"
  },
  "orig_nbformat": 4
 },
 "nbformat": 4,
 "nbformat_minor": 2
}
