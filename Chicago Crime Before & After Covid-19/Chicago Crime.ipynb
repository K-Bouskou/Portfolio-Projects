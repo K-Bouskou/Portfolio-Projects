{
 "cells": [
  {
   "cell_type": "markdown",
   "metadata": {},
   "source": [
    "# Load Library"
   ]
  },
  {
   "cell_type": "code",
   "execution_count": null,
   "metadata": {
    "pycharm": {
     "name": "#%%\n"
    }
   },
   "outputs": [],
   "source": [
    "from google.cloud import bigquery\n",
    "import pandas as pd\n",
    "import numpy as np\n",
    "import plotly.express as px\n",
    "import os"
   ]
  },
  {
   "cell_type": "markdown",
   "metadata": {},
   "source": [
    "# Connect To BigQuery"
   ]
  },
  {
   "cell_type": "code",
   "execution_count": null,
   "metadata": {},
   "outputs": [],
   "source": [
    "# Setup Google application Credentials environment \n",
    "os.environ['GOOGLE_APPLICATION_CREDENTIALS'] = 'JSON APi File Here' ## Note : You will need your personel JSON APi \n",
    "\n",
    "# Construct a BigQuery client object\n",
    "Client = bigquery.Client()"
   ]
  },
  {
   "cell_type": "code",
   "execution_count": null,
   "metadata": {},
   "outputs": [],
   "source": [
    "# Qeury Chicago Crime Data Before Covid-19 Pandemic\n",
    "Before_Covid = \"\"\"\n",
    "    SELECT *\n",
    "    FROM `bigquery-public-data.chicago_crime.crime`\n",
    "    WHERE date BETWEEN TIMESTAMP(\"2018-02-20\") AND TIMESTAMP(\"2020-01-24\")\n",
    "    ORDER BY date\n",
    "\"\"\"\n",
    "\n",
    "# Qeury Chicago Crime Data After Covid-19 Pandemic\n",
    "After_Covid = \"\"\"\n",
    "    SELECT *\n",
    "    FROM `bigquery-public-data.chicago_crime.crime`\n",
    "    WHERE date BETWEEN TIMESTAMP(\"2020-01-24\") AND TIMESTAMP(\"2021-03-16\")\n",
    "    ORDER BY date \n",
    "\"\"\""
   ]
  },
  {
   "cell_type": "code",
   "execution_count": null,
   "metadata": {},
   "outputs": [],
   "source": [
    "# Make API Request \n",
    "query_job_after_covid = Client.query(After_Covid)\n",
    "query_job_before_covid = Client.query(Before_Covid)"
   ]
  },
  {
   "cell_type": "code",
   "execution_count": null,
   "metadata": {},
   "outputs": [],
   "source": [
    "df_after = query_job_after_covid.result()\n",
    "df_before = query_job_before_covid.result()"
   ]
  },
  {
   "cell_type": "code",
   "execution_count": null,
   "metadata": {},
   "outputs": [],
   "source": [
    "# Transfer Data to DataFrame \n",
    "data_after = df_after.to_dataframe() \n",
    "data_before = df_before.to_dataframe()"
   ]
  },
  {
   "cell_type": "code",
   "execution_count": null,
   "metadata": {},
   "outputs": [],
   "source": [
    "after_copy = data_after.copy()\n",
    "before_copy = data_before.copy()"
   ]
  },
  {
   "cell_type": "markdown",
   "metadata": {},
   "source": [
    "# Explore Data"
   ]
  },
  {
   "cell_type": "code",
   "execution_count": null,
   "metadata": {},
   "outputs": [],
   "source": [
    "## Read Meta-Data \n",
    "Meta_Data = pd.read_csv('Meta-Data.csv', encoding= 'unicode_escape')\n",
    "Meta_Data"
   ]
  },
  {
   "cell_type": "code",
   "execution_count": null,
   "metadata": {},
   "outputs": [],
   "source": [
    "# Check data type & shape of each dataset \n",
    "before_copy.info()\n",
    "after_copy.info()"
   ]
  },
  {
   "cell_type": "markdown",
   "metadata": {},
   "source": [
    "### Check For Duplicates"
   ]
  },
  {
   "cell_type": "code",
   "execution_count": null,
   "metadata": {},
   "outputs": [],
   "source": [
    "# Check for duplicates in unique_key  & case_number columns \n",
    "# According to MetaData it shouldn't be duplicated value in this column \n",
    "before_copy.duplicated('case_number').value_counts()"
   ]
  },
  {
   "cell_type": "code",
   "execution_count": null,
   "metadata": {},
   "outputs": [],
   "source": [
    "after_copy.duplicated('case_number').value_counts()"
   ]
  },
  {
   "cell_type": "code",
   "execution_count": null,
   "metadata": {},
   "outputs": [],
   "source": [
    "before_copy.duplicated('unique_key').value_counts()"
   ]
  },
  {
   "cell_type": "code",
   "execution_count": null,
   "metadata": {},
   "outputs": [],
   "source": [
    "after_copy.duplicated('unique_key').value_counts()"
   ]
  },
  {
   "cell_type": "markdown",
   "metadata": {},
   "source": [
    "### Check For NULL Values"
   ]
  },
  {
   "cell_type": "code",
   "execution_count": null,
   "metadata": {},
   "outputs": [],
   "source": [
    "# Check for null value in primary_type column\n",
    "before_copy.primary_type.isnull().value_counts()"
   ]
  },
  {
   "cell_type": "code",
   "execution_count": null,
   "metadata": {},
   "outputs": [],
   "source": [
    "# Check for null value in primary_type column\n",
    "after_copy.primary_type.isnull().value_counts()"
   ]
  },
  {
   "cell_type": "code",
   "execution_count": null,
   "metadata": {},
   "outputs": [],
   "source": [
    "# Check for null value in location_description column\n",
    "before_copy.location_description.isnull().value_counts()"
   ]
  },
  {
   "cell_type": "code",
   "execution_count": null,
   "metadata": {},
   "outputs": [],
   "source": [
    "# Check for null value in location_description column\n",
    "after_copy.location_description.isnull().value_counts()"
   ]
  },
  {
   "cell_type": "markdown",
   "metadata": {},
   "source": [
    "# Clean & Transform Data"
   ]
  },
  {
   "cell_type": "markdown",
   "metadata": {},
   "source": [
    "### Remove Duplicates"
   ]
  },
  {
   "cell_type": "code",
   "execution_count": null,
   "metadata": {},
   "outputs": [],
   "source": [
    "# This code to remove duplicates from case_number column which is unique to the incident\n",
    "# according to MetaData so it shouldn't be duplicated value \n",
    "before_copy = before_copy.drop_duplicates('case_number')\n",
    "after_copy = after_copy.drop_duplicates('case_number')"
   ]
  },
  {
   "cell_type": "markdown",
   "metadata": {},
   "source": [
    "### Extract Time & Date"
   ]
  },
  {
   "cell_type": "code",
   "execution_count": null,
   "metadata": {},
   "outputs": [],
   "source": [
    "# This code to extract day name from date column \n",
    "before_copy['Day_Name'] = before_copy['date'].dt.day_name()\n",
    "after_copy['Day_Name'] = after_copy['date'].dt.day_name()"
   ]
  },
  {
   "cell_type": "code",
   "execution_count": null,
   "metadata": {},
   "outputs": [],
   "source": [
    "# This code to extract day from date column\n",
    "before_copy['Day'] = before_copy['date'].dt.day\n",
    "after_copy['Day'] = after_copy['date'].dt.day"
   ]
  },
  {
   "cell_type": "code",
   "execution_count": null,
   "metadata": {},
   "outputs": [],
   "source": [
    "# This code to extract month from date column \n",
    "before_copy['Month'] = before_copy['date'].dt.month\n",
    "after_copy['Month'] = after_copy['date'].dt.month"
   ]
  },
  {
   "cell_type": "code",
   "execution_count": null,
   "metadata": {},
   "outputs": [],
   "source": [
    "# This code to extract year from date column \n",
    "before_copy['Year'] = before_copy['date'].dt.year\n",
    "after_copy['Year'] = after_copy['date'].dt.year"
   ]
  },
  {
   "cell_type": "code",
   "execution_count": null,
   "metadata": {},
   "outputs": [],
   "source": [
    "# This code to extract time from date column & change format to PM/AM \n",
    "before_copy['Time'] = before_copy['date'].dt.time.apply(lambda x: x.strftime('%H %p'))\n",
    "after_copy['Time'] = after_copy['date'].dt.time.apply(lambda x: x.strftime('%H %p'))"
   ]
  },
  {
   "cell_type": "markdown",
   "metadata": {},
   "source": [
    "### Change False & True To No & Yes"
   ]
  },
  {
   "cell_type": "code",
   "execution_count": null,
   "metadata": {},
   "outputs": [],
   "source": [
    "# Change False & True into No & Yes in arrest column, That change type of column from boolean into string (object)\n",
    "before_copy['arrest'] = before_copy.arrest.replace({True: 'Yes', False: 'No'})\n",
    "after_copy['arrest'] = after_copy.arrest.replace({True: 'Yes', False: 'No'})"
   ]
  },
  {
   "cell_type": "code",
   "execution_count": null,
   "metadata": {},
   "outputs": [],
   "source": [
    "# Change False & True into No & Yes in domestic column, That change type of column from boolean into string (object)\n",
    "before_copy['domestic'] = before_copy.domestic.replace({True: 'Yes', False: 'No'})\n",
    "after_copy['domestic'] = after_copy.domestic.replace({True: 'Yes', False: 'No'})"
   ]
  },
  {
   "cell_type": "markdown",
   "metadata": {},
   "source": [
    "### Drop No Need Columns"
   ]
  },
  {
   "cell_type": "code",
   "execution_count": null,
   "metadata": {},
   "outputs": [],
   "source": [
    "# Drop columns no need for analysis \n",
    "before_copy = before_copy.drop(['case_number', 'description', 'district', 'beat', 'x_coordinate', 'y_coordinate', 'block', 'iucr', 'year', 'community_area', 'fbi_code', 'ward', 'updated_on'], axis=1)"
   ]
  },
  {
   "cell_type": "code",
   "execution_count": null,
   "metadata": {},
   "outputs": [],
   "source": [
    "# Drop columns no need for analysis \n",
    "after_copy = after_copy.drop(['case_number', 'description', 'district', 'beat', 'x_coordinate', 'y_coordinate', 'block', 'iucr', 'year', 'community_area', 'fbi_code', 'ward', 'updated_on'], axis=1)"
   ]
  },
  {
   "cell_type": "markdown",
   "metadata": {},
   "source": [
    "# Descriptive analysis With Visualization"
   ]
  },
  {
   "cell_type": "markdown",
   "metadata": {},
   "source": [
    "### Compare number of crime before & after pendemic by crime type "
   ]
  },
  {
   "cell_type": "code",
   "execution_count": null,
   "metadata": {},
   "outputs": [],
   "source": [
    "# count number of crime by type after pendemic\n",
    "after_primary_type_groupby = after_copy.groupby(['primary_type'])[['unique_key']].count().nlargest(10, 'unique_key')\n",
    "\n",
    "# count number of crime by type before pendemic\n",
    "before_primary_type_groupby = before_copy.groupby(['primary_type'])[['unique_key']].count().nlargest(10, 'unique_key')\n",
    "\n",
    "# merge two results after & before into one table \n",
    "before_after_primary_type = pd.concat([before_primary_type_groupby, after_primary_type_groupby],axis=1,ignore_index=False)\n",
    "\n",
    "# rename columns \n",
    "before_after_primary_type.columns=['Before Pendemic', 'After Pendemic']\n",
    "\n",
    "# Calculate the percent of change on primary type \n",
    "before_after_primary_type['% Of Change'] = ((before_after_primary_type['After Pendemic']-before_after_primary_type['Before Pendemic'])/before_after_primary_type['Before Pendemic']*100)\n",
    "\n",
    "# show the table\n",
    "before_after_primary_type.reset_index()"
   ]
  },
  {
   "cell_type": "code",
   "execution_count": null,
   "metadata": {},
   "outputs": [],
   "source": [
    "Primary_Type_Viz = px.bar(before_after_primary_type,\n",
    "                    barmode='group',\n",
    "                    height=800,\n",
    "                    width=800,\n",
    "                    title=\"Primary Type Before And After Covid\",                \n",
    ")\n",
    "Primary_Type_Viz.show()"
   ]
  },
  {
   "cell_type": "markdown",
   "metadata": {},
   "source": [
    "### Compare number of crime before & after pendemic by location description"
   ]
  },
  {
   "cell_type": "code",
   "execution_count": null,
   "metadata": {},
   "outputs": [],
   "source": [
    "# Count number of crime by location description after pendemic (Return  top 10 largest only)\n",
    "after_location_description_groupby = after_copy.groupby(['location_description'])[['unique_key']].count().nlargest(10, 'unique_key')\n",
    "\n",
    "# Count number of crime by location description before pendemic (Return  top 10 largest only)\n",
    "before_location_description_groupby = before_copy.groupby(['location_description'])[['unique_key']].count().nlargest(10, 'unique_key')\n",
    "\n",
    "# merge two results after & before into one table \n",
    "before_after_location_description = pd.concat([before_location_description_groupby, after_location_description_groupby],axis=1,ignore_index=True)\n",
    "\n",
    "# rename columns \n",
    "before_after_location_description.columns=['Before Pendemic', 'After Pendemic']\n",
    "\n",
    "# Calculate the percent of change on location description \n",
    "before_after_location_description['% Of Change'] = ((before_after_location_description['After Pendemic']-before_after_location_description['Before Pendemic'])/before_after_location_description['Before Pendemic']*100)\n",
    "\n",
    "# Show table \n",
    "before_after_location_description.reset_index()"
   ]
  },
  {
   "cell_type": "code",
   "execution_count": null,
   "metadata": {},
   "outputs": [],
   "source": [
    "\n",
    "Location_Description_Viz = px.bar(before_after_location_description,\n",
    "                        height = 920,\n",
    "                        width = 720,\n",
    "                        barmode='group',\n",
    "                        title=\"Location Description Before And After Covid\",\n",
    ")\n",
    "\n",
    "Location_Description_Viz.show()"
   ]
  },
  {
   "cell_type": "markdown",
   "metadata": {},
   "source": [
    "### Compare number of arrest & domestic before & after pendemic"
   ]
  },
  {
   "cell_type": "markdown",
   "metadata": {},
   "source": [
    "##### Arrest"
   ]
  },
  {
   "cell_type": "code",
   "execution_count": null,
   "metadata": {},
   "outputs": [],
   "source": [
    "# Count number of arrest made after pendemic\n",
    "after_arrest_groupby = after_copy.groupby(['arrest'])[['unique_key']].count()\n",
    "\n",
    "# Count number of arrest made before pendemic\n",
    "before_arrest_groupby = before_copy.groupby(['arrest'])[['unique_key']].count()\n",
    "\n",
    "# merge two results after & before into one table \n",
    "before_after_arrest = pd.concat([before_arrest_groupby, after_arrest_groupby], axis=1, ignore_index=False)\n",
    "\n",
    "# rename columns \n",
    "before_after_arrest.columns=['Arrest Before Pendemic', 'Arrest After Pendemic']\n",
    "\n",
    "# Calculate the percent of change arrest \n",
    "before_after_arrest['% Of Change'] = ((before_after_arrest['Arrest After Pendemic']-before_after_arrest['Arrest Before Pendemic'])/before_after_arrest['Arrest Before Pendemic'] *100)\n",
    "\n",
    "# Show table \n",
    "before_after_arrest.reset_index()"
   ]
  },
  {
   "cell_type": "code",
   "execution_count": null,
   "metadata": {},
   "outputs": [],
   "source": [
    "Arrest_Viz = px.bar(before_after_arrest, title=\"Arrest Before And After Covid\",\n",
    "                        height=920,\n",
    "                        width=720,\n",
    "                        barmode='group',\n",
    ")\n",
    "Arrest_Viz.show()"
   ]
  },
  {
   "cell_type": "markdown",
   "metadata": {},
   "source": [
    "#### Domestic"
   ]
  },
  {
   "cell_type": "code",
   "execution_count": null,
   "metadata": {},
   "outputs": [],
   "source": [
    "# Count number of domestic after pendemic\n",
    "after_domestic_groupby = after_copy.groupby(['domestic'])[['unique_key']].count()\n",
    "\n",
    "# Count number of domestic before pendemic\n",
    "before_domestic_groupby = before_copy.groupby(['domestic'])[['unique_key']].count()\n",
    "\n",
    "# merge two results after & before into one table \n",
    "before_after_domestic = pd.concat([before_domestic_groupby, after_domestic_groupby], axis=1, ignore_index=False)\n",
    "\n",
    "# rename columns \n",
    "before_after_domestic.columns=['Number Of Domestic Before Pendemic', 'Number Of Domestic After Pendemic']\n",
    "\n",
    "# Calculate the percent of domestic change \n",
    "before_after_domestic['% Of Change'] = ((before_after_domestic['Number Of Domestic After Pendemic']-\n",
    "                                                                        before_after_domestic['Number Of Domestic Before Pendemic'])\n",
    "                                                                        /before_after_domestic['Number Of Domestic Before Pendemic'] *100)\n",
    "\n",
    "# Show table \n",
    "before_after_domestic.reset_index()"
   ]
  },
  {
   "cell_type": "code",
   "execution_count": null,
   "metadata": {},
   "outputs": [],
   "source": [
    "Arrest_Viz = px.bar(before_after_domestic, title=\"Domestic Before And After Covid\",\n",
    "                        height=920,\n",
    "                        width=720,\n",
    "                        barmode='group',\n",
    ")\n",
    "Arrest_Viz.show()"
   ]
  }
 ],
 "metadata": {
  "interpreter": {
   "hash": "ac59ebe37160ed0dfa835113d9b8498d9f09ceb179beaac4002f036b9467c963"
  },
  "kernelspec": {
   "display_name": "Python 3.9.7 64-bit",
   "language": "python",
   "name": "python3"
  },
  "language_info": {
   "codemirror_mode": {
    "name": "ipython",
    "version": 3
   },
   "file_extension": ".py",
   "mimetype": "text/x-python",
   "name": "python",
   "nbconvert_exporter": "python",
   "pygments_lexer": "ipython3",
   "version": "3.10.1"
  },
  "orig_nbformat": 4
 },
 "nbformat": 4,
 "nbformat_minor": 2
}
